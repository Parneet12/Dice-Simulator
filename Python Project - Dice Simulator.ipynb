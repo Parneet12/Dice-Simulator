{
 "cells": [
  {
   "cell_type": "code",
   "execution_count": 17,
   "id": "aa6bfd1e",
   "metadata": {},
   "outputs": [],
   "source": [
    "import random\n",
    "from tkinter import *\n"
   ]
  },
  {
   "cell_type": "code",
   "execution_count": 18,
   "id": "2e79ebad",
   "metadata": {},
   "outputs": [],
   "source": [
    "root = Tk()\n",
    "root.geometry(\"500x300\")\n",
    "\n",
    "l1=Label(root,font=(\"times\",200))"
   ]
  },
  {
   "cell_type": "code",
   "execution_count": 19,
   "id": "14f3c7db",
   "metadata": {},
   "outputs": [],
   "source": [
    "def roll():\n",
    "    number=['\\u2680','\\u2681','\\u2682','\\u2683','\\u2684','\\u2685']\n",
    "    l1.config(text=f'{random.choice(number)}{random.choice(number)}')\n",
    "    l1.pack()"
   ]
  },
  {
   "cell_type": "code",
   "execution_count": 20,
   "id": "5261fbc3",
   "metadata": {},
   "outputs": [],
   "source": [
    "\n",
    "b1=Button(root,text=\"Lets roll...\",command=roll)\n",
    "b1.place(x=330,y=0)"
   ]
  },
  {
   "cell_type": "code",
   "execution_count": 21,
   "id": "e26c741f",
   "metadata": {},
   "outputs": [],
   "source": [
    "root.mainloop()"
   ]
  },
  {
   "cell_type": "code",
   "execution_count": null,
   "id": "45781120",
   "metadata": {},
   "outputs": [],
   "source": []
  }
 ],
 "metadata": {
  "kernelspec": {
   "display_name": "Python 3",
   "language": "python",
   "name": "python3"
  },
  "language_info": {
   "codemirror_mode": {
    "name": "ipython",
    "version": 3
   },
   "file_extension": ".py",
   "mimetype": "text/x-python",
   "name": "python",
   "nbconvert_exporter": "python",
   "pygments_lexer": "ipython3",
   "version": "3.8.8"
  }
 },
 "nbformat": 4,
 "nbformat_minor": 5
}
